{
 "cells": [
  {
   "cell_type": "code",
   "execution_count": 1,
   "id": "dff6911f",
   "metadata": {
    "_cell_guid": "b1076dfc-b9ad-4769-8c92-a6c4dae69d19",
    "_uuid": "8f2839f25d086af736a60e9eeb907d3b93b6e0e5",
    "execution": {
     "iopub.execute_input": "2024-01-17T18:24:00.685382Z",
     "iopub.status.busy": "2024-01-17T18:24:00.684308Z",
     "iopub.status.idle": "2024-01-17T18:24:02.905432Z",
     "shell.execute_reply": "2024-01-17T18:24:02.903299Z"
    },
    "papermill": {
     "duration": 2.231252,
     "end_time": "2024-01-17T18:24:02.908492",
     "exception": false,
     "start_time": "2024-01-17T18:24:00.677240",
     "status": "completed"
    },
    "tags": []
   },
   "outputs": [
    {
     "name": "stdout",
     "output_type": "stream",
     "text": [
      "/kaggle/input/normie/normie.csv\n",
      "/kaggle/input/dark-patterns-on-ecommerce-platforms/dark_patterns.csv\n"
     ]
    }
   ],
   "source": [
    "# This Python 3 environment comes with many helpful analytics libraries installed\n",
    "# It is defined by the kaggle/python Docker image: https://github.com/kaggle/docker-python\n",
    "# For example, here's several helpful packages to load\n",
    "\n",
    "import numpy as np # linear algebra\n",
    "import pandas as pd # data processing, CSV file I/O (e.g. pd.read_csv)\n",
    "import matplotlib.pyplot as plt\n",
    "import seaborn as sns\n",
    "# Input data files are available in the read-only \"../input/\" directory\n",
    "# For example, running this (by clicking run or pressing Shift+Enter) will list all files under the input directory\n",
    "\n",
    "import os\n",
    "for dirname, _, filenames in os.walk('/kaggle/input'):\n",
    "    for filename in filenames:\n",
    "        print(os.path.join(dirname, filename))\n",
    "\n",
    "# You can write up to 20GB to the current directory (/kaggle/working/) that gets preserved as output when you create a version using \"Save & Run All\" \n",
    "# You can also write temporary files to /kaggle/temp/, but they won't be saved outside of the current session"
   ]
  },
  {
   "cell_type": "code",
   "execution_count": 2,
   "id": "2c146dbb",
   "metadata": {
    "execution": {
     "iopub.execute_input": "2024-01-17T18:24:02.918904Z",
     "iopub.status.busy": "2024-01-17T18:24:02.918296Z",
     "iopub.status.idle": "2024-01-17T18:24:02.964377Z",
     "shell.execute_reply": "2024-01-17T18:24:02.963069Z"
    },
    "papermill": {
     "duration": 0.054318,
     "end_time": "2024-01-17T18:24:02.967509",
     "exception": false,
     "start_time": "2024-01-17T18:24:02.913191",
     "status": "completed"
    },
    "tags": []
   },
   "outputs": [
    {
     "data": {
      "text/html": [
       "<div>\n",
       "<style scoped>\n",
       "    .dataframe tbody tr th:only-of-type {\n",
       "        vertical-align: middle;\n",
       "    }\n",
       "\n",
       "    .dataframe tbody tr th {\n",
       "        vertical-align: top;\n",
       "    }\n",
       "\n",
       "    .dataframe thead th {\n",
       "        text-align: right;\n",
       "    }\n",
       "</style>\n",
       "<table border=\"1\" class=\"dataframe\">\n",
       "  <thead>\n",
       "    <tr style=\"text-align: right;\">\n",
       "      <th></th>\n",
       "      <th>Pattern String</th>\n",
       "      <th>classification</th>\n",
       "    </tr>\n",
       "  </thead>\n",
       "  <tbody>\n",
       "    <tr>\n",
       "      <th>0</th>\n",
       "      <td>FREE SHIPPING ON ORDERS OVER $100!</td>\n",
       "      <td>0.0</td>\n",
       "    </tr>\n",
       "    <tr>\n",
       "      <th>1</th>\n",
       "      <td>SOME EXCLUSIONS APPLY - LEARN MORE</td>\n",
       "      <td>0.0</td>\n",
       "    </tr>\n",
       "    <tr>\n",
       "      <th>2</th>\n",
       "      <td>HAVE A QUESTION? - CONTACT US</td>\n",
       "      <td>0.0</td>\n",
       "    </tr>\n",
       "    <tr>\n",
       "      <th>3</th>\n",
       "      <td>WELCOME TO 034MOTORSPORT!</td>\n",
       "      <td>0.0</td>\n",
       "    </tr>\n",
       "    <tr>\n",
       "      <th>4</th>\n",
       "      <td>SHOP AUDISHOP VOLKSWAGENPERFORMANCE SOFTWARE03...</td>\n",
       "      <td>0.0</td>\n",
       "    </tr>\n",
       "    <tr>\n",
       "      <th>...</th>\n",
       "      <td>...</td>\n",
       "      <td>...</td>\n",
       "    </tr>\n",
       "    <tr>\n",
       "      <th>2695</th>\n",
       "      <td>$5 Off Your Next Order</td>\n",
       "      <td>1.0</td>\n",
       "    </tr>\n",
       "    <tr>\n",
       "      <th>2696</th>\n",
       "      <td>©-2019 Barnaby Ltd dba Good Vibrations</td>\n",
       "      <td>0.0</td>\n",
       "    </tr>\n",
       "    <tr>\n",
       "      <th>2697</th>\n",
       "      <td>NaN</td>\n",
       "      <td>0.0</td>\n",
       "    </tr>\n",
       "    <tr>\n",
       "      <th>2698</th>\n",
       "      <td>18 U.S.C. §2257 Recordkeeping Requirements Com...</td>\n",
       "      <td>0.0</td>\n",
       "    </tr>\n",
       "    <tr>\n",
       "      <th>2699</th>\n",
       "      <td>In order to give you a better service we use c...</td>\n",
       "      <td>0.0</td>\n",
       "    </tr>\n",
       "  </tbody>\n",
       "</table>\n",
       "<p>2700 rows × 2 columns</p>\n",
       "</div>"
      ],
      "text/plain": [
       "                                         Pattern String  classification\n",
       "0                    FREE SHIPPING ON ORDERS OVER $100!             0.0\n",
       "1                    SOME EXCLUSIONS APPLY - LEARN MORE             0.0\n",
       "2                         HAVE A QUESTION? - CONTACT US             0.0\n",
       "3                             WELCOME TO 034MOTORSPORT!             0.0\n",
       "4     SHOP AUDISHOP VOLKSWAGENPERFORMANCE SOFTWARE03...             0.0\n",
       "...                                                 ...             ...\n",
       "2695                             $5 Off Your Next Order             1.0\n",
       "2696             ©-2019 Barnaby Ltd dba Good Vibrations             0.0\n",
       "2697                                                NaN             0.0\n",
       "2698  18 U.S.C. §2257 Recordkeeping Requirements Com...             0.0\n",
       "2699  In order to give you a better service we use c...             0.0\n",
       "\n",
       "[2700 rows x 2 columns]"
      ]
     },
     "execution_count": 2,
     "metadata": {},
     "output_type": "execute_result"
    }
   ],
   "source": [
    "df = pd.read_csv(\"/kaggle/input/normie/normie.csv\")\n",
    "df"
   ]
  },
  {
   "cell_type": "code",
   "execution_count": 3,
   "id": "94da1d44",
   "metadata": {
    "execution": {
     "iopub.execute_input": "2024-01-17T18:24:02.978268Z",
     "iopub.status.busy": "2024-01-17T18:24:02.977851Z",
     "iopub.status.idle": "2024-01-17T18:24:02.998598Z",
     "shell.execute_reply": "2024-01-17T18:24:02.997478Z"
    },
    "papermill": {
     "duration": 0.028926,
     "end_time": "2024-01-17T18:24:03.001039",
     "exception": false,
     "start_time": "2024-01-17T18:24:02.972113",
     "status": "completed"
    },
    "tags": []
   },
   "outputs": [
    {
     "data": {
      "text/html": [
       "<div>\n",
       "<style scoped>\n",
       "    .dataframe tbody tr th:only-of-type {\n",
       "        vertical-align: middle;\n",
       "    }\n",
       "\n",
       "    .dataframe tbody tr th {\n",
       "        vertical-align: top;\n",
       "    }\n",
       "\n",
       "    .dataframe thead th {\n",
       "        text-align: right;\n",
       "    }\n",
       "</style>\n",
       "<table border=\"1\" class=\"dataframe\">\n",
       "  <thead>\n",
       "    <tr style=\"text-align: right;\">\n",
       "      <th></th>\n",
       "      <th>Pattern</th>\n",
       "      <th>Label</th>\n",
       "    </tr>\n",
       "  </thead>\n",
       "  <tbody>\n",
       "    <tr>\n",
       "      <th>0</th>\n",
       "      <td>FREE SHIPPING ON ORDERS OVER $100!</td>\n",
       "      <td>0.0</td>\n",
       "    </tr>\n",
       "    <tr>\n",
       "      <th>1</th>\n",
       "      <td>SOME EXCLUSIONS APPLY - LEARN MORE</td>\n",
       "      <td>0.0</td>\n",
       "    </tr>\n",
       "    <tr>\n",
       "      <th>2</th>\n",
       "      <td>HAVE A QUESTION? - CONTACT US</td>\n",
       "      <td>0.0</td>\n",
       "    </tr>\n",
       "    <tr>\n",
       "      <th>3</th>\n",
       "      <td>WELCOME TO 034MOTORSPORT!</td>\n",
       "      <td>0.0</td>\n",
       "    </tr>\n",
       "    <tr>\n",
       "      <th>4</th>\n",
       "      <td>SHOP AUDISHOP VOLKSWAGENPERFORMANCE SOFTWARE03...</td>\n",
       "      <td>0.0</td>\n",
       "    </tr>\n",
       "    <tr>\n",
       "      <th>...</th>\n",
       "      <td>...</td>\n",
       "      <td>...</td>\n",
       "    </tr>\n",
       "    <tr>\n",
       "      <th>2695</th>\n",
       "      <td>$5 Off Your Next Order</td>\n",
       "      <td>1.0</td>\n",
       "    </tr>\n",
       "    <tr>\n",
       "      <th>2696</th>\n",
       "      <td>©-2019 Barnaby Ltd dba Good Vibrations</td>\n",
       "      <td>0.0</td>\n",
       "    </tr>\n",
       "    <tr>\n",
       "      <th>2697</th>\n",
       "      <td>NaN</td>\n",
       "      <td>0.0</td>\n",
       "    </tr>\n",
       "    <tr>\n",
       "      <th>2698</th>\n",
       "      <td>18 U.S.C. §2257 Recordkeeping Requirements Com...</td>\n",
       "      <td>0.0</td>\n",
       "    </tr>\n",
       "    <tr>\n",
       "      <th>2699</th>\n",
       "      <td>In order to give you a better service we use c...</td>\n",
       "      <td>0.0</td>\n",
       "    </tr>\n",
       "  </tbody>\n",
       "</table>\n",
       "<p>2700 rows × 2 columns</p>\n",
       "</div>"
      ],
      "text/plain": [
       "                                                Pattern  Label\n",
       "0                    FREE SHIPPING ON ORDERS OVER $100!    0.0\n",
       "1                    SOME EXCLUSIONS APPLY - LEARN MORE    0.0\n",
       "2                         HAVE A QUESTION? - CONTACT US    0.0\n",
       "3                             WELCOME TO 034MOTORSPORT!    0.0\n",
       "4     SHOP AUDISHOP VOLKSWAGENPERFORMANCE SOFTWARE03...    0.0\n",
       "...                                                 ...    ...\n",
       "2695                             $5 Off Your Next Order    1.0\n",
       "2696             ©-2019 Barnaby Ltd dba Good Vibrations    0.0\n",
       "2697                                                NaN    0.0\n",
       "2698  18 U.S.C. §2257 Recordkeeping Requirements Com...    0.0\n",
       "2699  In order to give you a better service we use c...    0.0\n",
       "\n",
       "[2700 rows x 2 columns]"
      ]
     },
     "execution_count": 3,
     "metadata": {},
     "output_type": "execute_result"
    }
   ],
   "source": [
    "df = df.rename(columns={'classification': 'Label'})\n",
    "df = df.rename(columns={'Pattern String': 'Pattern'})\n",
    "df"
   ]
  },
  {
   "cell_type": "code",
   "execution_count": 4,
   "id": "c25e4f1f",
   "metadata": {
    "execution": {
     "iopub.execute_input": "2024-01-17T18:24:03.012357Z",
     "iopub.status.busy": "2024-01-17T18:24:03.011931Z",
     "iopub.status.idle": "2024-01-17T18:24:03.450251Z",
     "shell.execute_reply": "2024-01-17T18:24:03.447233Z"
    },
    "papermill": {
     "duration": 0.448029,
     "end_time": "2024-01-17T18:24:03.453841",
     "exception": false,
     "start_time": "2024-01-17T18:24:03.005812",
     "status": "completed"
    },
    "tags": []
   },
   "outputs": [
    {
     "data": {
      "text/plain": [
       "<Axes: xlabel='Label', ylabel='count'>"
      ]
     },
     "execution_count": 4,
     "metadata": {},
     "output_type": "execute_result"
    },
    {
     "data": {
      "image/png": "[encoded data removed]",
      "text/plain": [
       "<Figure size 1200x800 with 1 Axes>"
      ]
     },
     "metadata": {},
     "output_type": "display_data"
    }
   ],
   "source": [
    "plt.figure(figsize=(12, 8))\n",
    "sns.countplot(x=df['Label'], data = df)"
   ]
  },
  {
   "cell_type": "code",
   "execution_count": 5,
   "id": "43fa5704",
   "metadata": {
    "execution": {
     "iopub.execute_input": "2024-01-17T18:24:03.470668Z",
     "iopub.status.busy": "2024-01-17T18:24:03.470188Z",
     "iopub.status.idle": "2024-01-17T18:24:03.490865Z",
     "shell.execute_reply": "2024-01-17T18:24:03.489531Z"
    },
    "papermill": {
     "duration": 0.03225,
     "end_time": "2024-01-17T18:24:03.493587",
     "exception": false,
     "start_time": "2024-01-17T18:24:03.461337",
     "status": "completed"
    },
    "tags": []
   },
   "outputs": [
    {
     "data": {
      "text/html": [
       "<div>\n",
       "<style scoped>\n",
       "    .dataframe tbody tr th:only-of-type {\n",
       "        vertical-align: middle;\n",
       "    }\n",
       "\n",
       "    .dataframe tbody tr th {\n",
       "        vertical-align: top;\n",
       "    }\n",
       "\n",
       "    .dataframe thead th {\n",
       "        text-align: right;\n",
       "    }\n",
       "</style>\n",
       "<table border=\"1\" class=\"dataframe\">\n",
       "  <thead>\n",
       "    <tr style=\"text-align: right;\">\n",
       "      <th></th>\n",
       "      <th>Pattern</th>\n",
       "      <th>Label</th>\n",
       "    </tr>\n",
       "  </thead>\n",
       "  <tbody>\n",
       "    <tr>\n",
       "      <th>0</th>\n",
       "      <td>FREE SHIPPING ON ORDERS OVER $100!</td>\n",
       "      <td>0.0</td>\n",
       "    </tr>\n",
       "    <tr>\n",
       "      <th>1</th>\n",
       "      <td>SOME EXCLUSIONS APPLY - LEARN MORE</td>\n",
       "      <td>0.0</td>\n",
       "    </tr>\n",
       "    <tr>\n",
       "      <th>2</th>\n",
       "      <td>HAVE A QUESTION? - CONTACT US</td>\n",
       "      <td>0.0</td>\n",
       "    </tr>\n",
       "    <tr>\n",
       "      <th>3</th>\n",
       "      <td>WELCOME TO 034MOTORSPORT!</td>\n",
       "      <td>0.0</td>\n",
       "    </tr>\n",
       "    <tr>\n",
       "      <th>4</th>\n",
       "      <td>SHOP AUDISHOP VOLKSWAGENPERFORMANCE SOFTWARE03...</td>\n",
       "      <td>0.0</td>\n",
       "    </tr>\n",
       "    <tr>\n",
       "      <th>...</th>\n",
       "      <td>...</td>\n",
       "      <td>...</td>\n",
       "    </tr>\n",
       "    <tr>\n",
       "      <th>2694</th>\n",
       "      <td>Join Our List Get</td>\n",
       "      <td>0.0</td>\n",
       "    </tr>\n",
       "    <tr>\n",
       "      <th>2695</th>\n",
       "      <td>$5 Off Your Next Order</td>\n",
       "      <td>1.0</td>\n",
       "    </tr>\n",
       "    <tr>\n",
       "      <th>2696</th>\n",
       "      <td>©-2019 Barnaby Ltd dba Good Vibrations</td>\n",
       "      <td>0.0</td>\n",
       "    </tr>\n",
       "    <tr>\n",
       "      <th>2698</th>\n",
       "      <td>18 U.S.C. §2257 Recordkeeping Requirements Com...</td>\n",
       "      <td>0.0</td>\n",
       "    </tr>\n",
       "    <tr>\n",
       "      <th>2699</th>\n",
       "      <td>In order to give you a better service we use c...</td>\n",
       "      <td>0.0</td>\n",
       "    </tr>\n",
       "  </tbody>\n",
       "</table>\n",
       "<p>2426 rows × 2 columns</p>\n",
       "</div>"
      ],
      "text/plain": [
       "                                                Pattern  Label\n",
       "0                    FREE SHIPPING ON ORDERS OVER $100!    0.0\n",
       "1                    SOME EXCLUSIONS APPLY - LEARN MORE    0.0\n",
       "2                         HAVE A QUESTION? - CONTACT US    0.0\n",
       "3                             WELCOME TO 034MOTORSPORT!    0.0\n",
       "4     SHOP AUDISHOP VOLKSWAGENPERFORMANCE SOFTWARE03...    0.0\n",
       "...                                                 ...    ...\n",
       "2694                                  Join Our List Get    0.0\n",
       "2695                             $5 Off Your Next Order    1.0\n",
       "2696             ©-2019 Barnaby Ltd dba Good Vibrations    0.0\n",
       "2698  18 U.S.C. §2257 Recordkeeping Requirements Com...    0.0\n",
       "2699  In order to give you a better service we use c...    0.0\n",
       "\n",
       "[2426 rows x 2 columns]"
      ]
     },
     "execution_count": 5,
     "metadata": {},
     "output_type": "execute_result"
    }
   ],
   "source": [
    "df.dropna(inplace = True)\n",
    "df"
   ]
  },
  {
   "cell_type": "code",
   "execution_count": 6,
   "id": "6da95265",
   "metadata": {
    "execution": {
     "iopub.execute_input": "2024-01-17T18:24:03.506491Z",
     "iopub.status.busy": "2024-01-17T18:24:03.506105Z",
     "iopub.status.idle": "2024-01-17T18:24:03.768496Z",
     "shell.execute_reply": "2024-01-17T18:24:03.767334Z"
    },
    "papermill": {
     "duration": 0.272437,
     "end_time": "2024-01-17T18:24:03.771890",
     "exception": false,
     "start_time": "2024-01-17T18:24:03.499453",
     "status": "completed"
    },
    "tags": []
   },
   "outputs": [],
   "source": [
    "from sklearn.model_selection import train_test_split\n",
    "\n",
    "X_train, X_test, Y_train, y_test = train_test_split(df['Pattern'], df['Label'], test_size = 0.3, random_state = 0)"
   ]
  },
  {
   "cell_type": "code",
   "execution_count": 7,
   "id": "e6c487b6",
   "metadata": {
    "execution": {
     "iopub.execute_input": "2024-01-17T18:24:03.786289Z",
     "iopub.status.busy": "2024-01-17T18:24:03.785793Z",
     "iopub.status.idle": "2024-01-17T18:24:03.849300Z",
     "shell.execute_reply": "2024-01-17T18:24:03.847886Z"
    },
    "papermill": {
     "duration": 0.074027,
     "end_time": "2024-01-17T18:24:03.852341",
     "exception": false,
     "start_time": "2024-01-17T18:24:03.778314",
     "status": "completed"
    },
    "tags": []
   },
   "outputs": [],
   "source": [
    "from sklearn.feature_extraction.text import TfidfVectorizer\n",
    "vectorizer = TfidfVectorizer()\n",
    "X_train_vectorized = vectorizer.fit_transform(X_train)\n",
    "X_test_vectorized = vectorizer.transform(X_test)"
   ]
  },
  {
   "cell_type": "code",
   "execution_count": 8,
   "id": "d2a2fa71",
   "metadata": {
    "execution": {
     "iopub.execute_input": "2024-01-17T18:24:03.866236Z",
     "iopub.status.busy": "2024-01-17T18:24:03.865790Z",
     "iopub.status.idle": "2024-01-17T18:24:05.479340Z",
     "shell.execute_reply": "2024-01-17T18:24:05.478013Z"
    },
    "papermill": {
     "duration": 1.624071,
     "end_time": "2024-01-17T18:24:05.482520",
     "exception": false,
     "start_time": "2024-01-17T18:24:03.858449",
     "status": "completed"
    },
    "tags": []
   },
   "outputs": [],
   "source": [
    "from sklearn.ensemble import RandomForestClassifier\n",
    "RFC =  RandomForestClassifier()\n",
    "RFC.fit(X_train_vectorized, Y_train)\n",
    "y_pred = RFC.predict(X_test_vectorized)"
   ]
  },
  {
   "cell_type": "code",
   "execution_count": 9,
   "id": "b4f964dd",
   "metadata": {
    "execution": {
     "iopub.execute_input": "2024-01-17T18:24:05.496599Z",
     "iopub.status.busy": "2024-01-17T18:24:05.496158Z",
     "iopub.status.idle": "2024-01-17T18:24:05.505607Z",
     "shell.execute_reply": "2024-01-17T18:24:05.504026Z"
    },
    "papermill": {
     "duration": 0.019504,
     "end_time": "2024-01-17T18:24:05.508165",
     "exception": false,
     "start_time": "2024-01-17T18:24:05.488661",
     "status": "completed"
    },
    "tags": []
   },
   "outputs": [
    {
     "name": "stdout",
     "output_type": "stream",
     "text": [
      "Accuracy Score: 0.875\n"
     ]
    }
   ],
   "source": [
    "from sklearn.metrics import accuracy_score\n",
    "print(f'Accuracy Score: {accuracy_score(y_test, y_pred)}')"
   ]
  },
  {
   "cell_type": "code",
   "execution_count": 10,
   "id": "5d7a44bd",
   "metadata": {
    "execution": {
     "iopub.execute_input": "2024-01-17T18:24:05.522034Z",
     "iopub.status.busy": "2024-01-17T18:24:05.521604Z",
     "iopub.status.idle": "2024-01-17T18:24:05.538573Z",
     "shell.execute_reply": "2024-01-17T18:24:05.536870Z"
    },
    "papermill": {
     "duration": 0.026932,
     "end_time": "2024-01-17T18:24:05.541187",
     "exception": false,
     "start_time": "2024-01-17T18:24:05.514255",
     "status": "completed"
    },
    "tags": []
   },
   "outputs": [
    {
     "name": "stdout",
     "output_type": "stream",
     "text": [
      "Classification Report:               precision    recall  f1-score   support\n",
      "\n",
      "         0.0       0.89      0.96      0.92       571\n",
      "         1.0       0.81      0.55      0.65       157\n",
      "\n",
      "    accuracy                           0.88       728\n",
      "   macro avg       0.85      0.76      0.79       728\n",
      "weighted avg       0.87      0.88      0.87       728\n",
      "\n"
     ]
    }
   ],
   "source": [
    "from sklearn.metrics import classification_report\n",
    "print(f'Classification Report: {classification_report(y_test, y_pred)}')"
   ]
  },
  {
   "cell_type": "code",
   "execution_count": 11,
   "id": "5df30ca3",
   "metadata": {
    "execution": {
     "iopub.execute_input": "2024-01-17T18:24:05.555974Z",
     "iopub.status.busy": "2024-01-17T18:24:05.555532Z",
     "iopub.status.idle": "2024-01-17T18:24:05.681335Z",
     "shell.execute_reply": "2024-01-17T18:24:05.679920Z"
    },
    "papermill": {
     "duration": 0.136113,
     "end_time": "2024-01-17T18:24:05.683684",
     "exception": false,
     "start_time": "2024-01-17T18:24:05.547571",
     "status": "completed"
    },
    "tags": []
   },
   "outputs": [
    {
     "data": {
      "text/plain": [
       "['presence_vectorizer.joblib']"
      ]
     },
     "execution_count": 11,
     "metadata": {},
     "output_type": "execute_result"
    }
   ],
   "source": [
    "from joblib import dump\n",
    "dump(RFC, 'presence_classifer.joblib')\n",
    "dump(vectorizer, 'presence_vectorizer.joblib')"
   ]
  }
 ],
 "metadata": {
  "kaggle": {
   "accelerator": "none",
   "dataSources": [
    {
     "datasetId": 4290965,
     "sourceId": 7383057,
     "sourceType": "datasetVersion"
    },
    {
     "datasetId": 4316574,
     "sourceId": 7419584,
     "sourceType": "datasetVersion"
    }
   ],
   "dockerImageVersionId": 30635,
   "isGpuEnabled": false,
   "isInternetEnabled": true,
   "language": "python",
   "sourceType": "notebook"
  },
  "kernelspec": {
   "display_name": "Python 3",
   "language": "python",
   "name": "python3"
  },
  "language_info": {
   "codemirror_mode": {
    "name": "ipython",
    "version": 3
   },
   "file_extension": ".py",
   "mimetype": "text/x-python",
   "name": "python",
   "nbconvert_exporter": "python",
   "pygments_lexer": "ipython3",
   "version": "3.10.12"
  },
  "papermill": {
   "default_parameters": {},
   "duration": 10.387501,
   "end_time": "2024-01-17T18:24:06.412771",
   "environment_variables": {},
   "exception": null,
   "input_path": "__notebook__.ipynb",
   "output_path": "__notebook__.ipynb",
   "parameters": {},
   "start_time": "2024-01-17T18:23:56.025270",
   "version": "2.4.0"
  }
 },
 "nbformat": 4,
 "nbformat_minor": 5
}
